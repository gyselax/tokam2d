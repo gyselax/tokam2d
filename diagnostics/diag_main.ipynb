{
 "cells": [
  {
   "cell_type": "markdown",
   "metadata": {},
   "source": [
    "___\n",
    "# <font color=\"gold\">**Diagnostic for** <span style=\"font-variant:small-caps;\">tokam2D</span> </font>\n",
    "___\n",
    "\n",
    "This notebook, based on <span style=\"font-variant:small-caps;\">tokam2D</span> simulation ouputs, is meant for:\n",
    "* **Physical quantities computation** (as for now: density, electric potential, vorticity, radial flux, radial velocity, poloidal velocity, reynolds stress and turbulent intensity)\n",
    "* **Data visualization**\n",
    "* **Exporting data** (as for now: in .hdf5 format)\n",
    "* **Make movie of the time evolution of any 2D quantities**\n",
    "\n",
    "Each of these relies heavily on a class *Simulation* defined in the file *simulation_diag_handler.py* which is a handy tool for fast and easy access to the data.\n",
    "\n",
    "Below, practical examples are given for each of these tasks."
   ]
  },
  {
   "cell_type": "markdown",
   "metadata": {},
   "source": [
    "## **Choose a simulation**"
   ]
  },
  {
   "cell_type": "code",
   "execution_count": null,
   "metadata": {},
   "outputs": [],
   "source": [
    "from simulation_diag_handler import Simulation, set_plot_defaults\n",
    "\n",
    "sim_path = '/simulation/folder/path'\n",
    "\n",
    "sim = Simulation(sim_path)"
   ]
  },
  {
   "cell_type": "markdown",
   "metadata": {},
   "source": [
    "## **Vizualisation**"
   ]
  },
  {
   "cell_type": "markdown",
   "metadata": {},
   "source": [
    "### **Vizualisation of 2D map in real space**"
   ]
  },
  {
   "cell_type": "code",
   "execution_count": null,
   "metadata": {},
   "outputs": [],
   "source": [
    "%matplotlib inline\n",
    "\n",
    "import matplotlib.gridspec as gridspec\n",
    "\n",
    "import matplotlib.pyplot as plt\n",
    "import numpy as np\n",
    "\n",
    "# Choose the field to plot, choices are: 'density', 'potential', 'vorticity', 'flux', 'VEx', 'VEy', 'Isq', 'reynolds_stress'\n",
    "param = 'density'\n",
    "\n",
    "it = len(sim['time'])-1\n",
    "symetrical_cmap = False\n",
    "colormap_range = 0.8\n",
    "bool_appearing_lines = True\n",
    "ix = len(sim['x'])//2\n",
    "iy = len(sim['y'])//2\n",
    "\n",
    "plt.close('all')\n",
    "\n",
    "fig = plt.figure(figsize=(12,12))\n",
    "\n",
    "Pmap = sim.get_data_slice(param, it)\n",
    "if symetrical_cmap:\n",
    "    vmax = colormap_range*max( abs( np.min(Pmap) ), abs( np.max(Pmap) ) )\n",
    "    vmin = -vmax\n",
    "else:\n",
    "    vmin = colormap_range*np.min(Pmap)\n",
    "    vmax = colormap_range*np.max(Pmap)\n",
    "\n",
    "gs = gridspec.GridSpec(3, 3)\n",
    "\n",
    "ax_map = fig.add_subplot(gs[0:2,0:2])\n",
    "ax_y = fig.add_subplot(gs[0:2,2])\n",
    "ax_x = fig.add_subplot(gs[2,0:2])\n",
    "ax_cbar = fig.add_subplot(gs[2,2])\n",
    "\n",
    "ax_map.set_title(fr\"Time: {sim['time'][it]:.2e} $[w_{{c0}}^{{-1}}]$\")\n",
    "\n",
    "p=ax_map.pcolormesh(sim['x'][:],sim['y'][:],Pmap,vmin=vmin,vmax=vmax)\n",
    "\n",
    "# cax = fig.add_axes([0.92, 0.15, 0.02, 0.7])\n",
    "fig.colorbar(p,cax=ax_cbar, fraction=0.9, pad=0.4, orientation='horizontal')\n",
    "ax_cbar.set_xlabel(param)\n",
    "\n",
    "ax_map.set_xlabel(r'$x$')\n",
    "ax_map.set_ylabel(r'$y$')\n",
    "\n",
    "ax_x.plot(sim['x'][:], np.mean(Pmap ,axis=0),color='xkcd:red',label='y-average')\n",
    "ax_x.set_xlabel(r'x $[\\rho_{0}]$')\n",
    "ax_x.axhline(y=0,c='k',ls='--')\n",
    "\n",
    "ax_y.plot(np.mean( Pmap ,axis=1), sim['y'][:],color='xkcd:red',label='x-average')\n",
    "ax_y.axvline(x=0,c='k',ls='--')\n",
    "\n",
    "ax_y.set_ylabel(r'y $[\\rho_{0}]$')\n",
    "\n",
    "if bool_appearing_lines:\n",
    "    ax_map.axvline(x=sim['x'][ix], c='xkcd:orchid',ls='--')\n",
    "    ax_map.axhline(y=sim['y'][iy], c='xkcd:kelly green',ls='--')\n",
    "    ax_x.plot(sim['x'][:], Pmap[iy,:], c='xkcd:kelly green',ls='--',label=f'y={sim[\"y\"][iy]:.2f}')\n",
    "    ax_y.plot(Pmap[:,ix], sim['y'][:], c='xkcd:orchid',ls='--',label=f'x={sim[\"x\"][ix]:.2f}')\n",
    "\n",
    "for axes in [ax_y,ax_x]: \n",
    "    axes.legend()\n",
    "\n",
    "fig.tight_layout(rect=[0, 0.03, 1, 0.95])\n"
   ]
  },
  {
   "cell_type": "markdown",
   "metadata": {},
   "source": [
    "### **Interactive vizualisation of 2D map in real space** <font color=\"coral\">(need the **ipywidgets** library installed)</font>"
   ]
  },
  {
   "cell_type": "code",
   "execution_count": null,
   "metadata": {},
   "outputs": [],
   "source": [
    "import ipywidgets as widgets\n",
    "%matplotlib widget\n",
    "from ipywidgets import Layout, interact\n",
    "import matplotlib.gridspec as gridspec\n",
    "\n",
    "import matplotlib.pyplot as plt\n",
    "import numpy as np\n",
    "\n",
    "from simulation_diag_handler import Simulation, set_plot_defaults\n",
    "\n",
    "# sim = Simulation('/home/robin.varennes/work/mysimcode/SOL_interchange_driftwave')\n",
    "\n",
    "set_plot_defaults()\n",
    "\n",
    "plt.close('all')\n",
    "\n",
    "fig = plt.figure(figsize=(12,12))\n",
    "\n",
    "def update_plot(param, it, ix, iy,\n",
    "               colormap_range,dpi_adjust, symetrical_cmap, bool_appearing_lines):\n",
    "    \n",
    "    plt.clf()\n",
    "\n",
    "    ## Set dpi of figure\n",
    "    fig.set_dpi(dpi_adjust)\n",
    "\n",
    "    ## Clear previous plot\n",
    "    for axes in fig.axes: axes.clear()\n",
    "\n",
    "    Pmap = sim.get_data_slice(param, it)\n",
    "    if symetrical_cmap:\n",
    "        vmax = colormap_range*max( abs( np.min(Pmap) ), abs( np.max(Pmap) ) )\n",
    "        vmin = -vmax\n",
    "    else:\n",
    "        vmin = colormap_range*np.min(Pmap) \n",
    "        vmax = colormap_range*np.max(Pmap) \n",
    "\n",
    "    gs = gridspec.GridSpec(3, 3)\n",
    "\n",
    "    ax_map = fig.add_subplot(gs[0:2,0:2])\n",
    "    ax_y = fig.add_subplot(gs[0:2,2])\n",
    "    ax_x = fig.add_subplot(gs[2,0:2])\n",
    "    ax_cbar = fig.add_subplot(gs[2,2])\n",
    "\n",
    "    ax_map.set_title(fr\"Time: {sim['time'][it]:.2e} $[w_{{c0}}^{{-1}}]$\")\n",
    "\n",
    "    p=ax_map.pcolormesh(sim['x'][:],sim['y'][:],Pmap,vmin=vmin,vmax=vmax, cmap='RdYlBu_r')\n",
    "    # p=ax_map.pcolormesh(sim['x'][:],sim['y'][:],Pmap,vmin=1,vmax=vmax, cmap='hot')\n",
    "    # Add contour lines\n",
    "    # ax_map.contour(sim['x'][:],sim['y'][:],Pmap,levels=10,colors='k',linewidths=0.5)\n",
    "\n",
    "    # cax = fig.add_axes([0.92, 0.15, 0.02, 0.7])\n",
    "    fig.colorbar(p,cax=ax_cbar, fraction=0.9, pad=0.4, orientation='horizontal')\n",
    "    ax_cbar.set_xlabel(param)\n",
    "\n",
    "    ax_map.set_xlabel(r'$x$')\n",
    "    ax_map.set_ylabel(r'$y$')\n",
    "\n",
    "    ax_x.plot(sim['x'][:], np.mean(Pmap ,axis=0),color='xkcd:red',label='y-average')\n",
    "    ax_x.set_xlabel(r'x $[\\rho_{0}]$')\n",
    "    ax_x.axhline(y=0,c='k',ls='--')\n",
    "\n",
    "    ax_y.plot(np.mean( Pmap ,axis=1), sim['y'][:],color='xkcd:red',label='x-average')\n",
    "    ax_y.axvline(x=0,c='k',ls='--')\n",
    "\n",
    "    ax_y.set_ylabel(r'y $[\\rho_{0}]$')\n",
    "\n",
    "    if bool_appearing_lines:\n",
    "        ax_map.axvline(x=sim['x'][ix], c='xkcd:orchid',ls='--')\n",
    "        ax_map.axhline(y=sim['y'][iy], c='xkcd:kelly green',ls='--')\n",
    "        ax_x.plot(sim['x'][:], Pmap[iy,:], c='xkcd:kelly green',ls='--',label=f'y={sim[\"y\"][iy]:.2f}')\n",
    "        ax_y.plot(Pmap[:,ix], sim['y'][:], c='xkcd:orchid',ls='--',label=f'x={sim[\"x\"][ix]:.2f}')\n",
    "\n",
    "    for axes in [ax_y,ax_x]: \n",
    "        axes.legend()\n",
    "\n",
    "    fig.tight_layout(rect=[0, 0.03, 1, 0.95])\n",
    "\n",
    "\n",
    "    fig.savefig(f'blob_tokam2d.png')\n",
    "    \n",
    "itmax = len(sim['time'])-1\n",
    "ixmax = len(sim['x'])-1\n",
    "iymax = len(sim['y'])-1\n",
    "\n",
    "itime_slider=widgets.IntSlider(value=itmax,min=0,max=itmax,step=1,description=\"Time index\",layout=Layout(width='50%'))\n",
    "ix_slider=widgets.IntSlider(value=ixmax//2,min=0,max=ixmax,step=1,description=\"x index\",layout=Layout(width='50%'))\n",
    "iy_slider=widgets.IntSlider(value=iymax//2,min=0,max=iymax,step=1,description=\"y index\",layout=Layout(width='50%'))\n",
    "float_range_time_slider = widgets.FloatRangeSlider(value=[sim['time'][-2], sim['time'][-1]], min=0, max=sim['time'][-1], step=8, description='Time range', layout=Layout(width='50%'), style = {'description_width': 'initial'}, continuous_update=False)\n",
    "float_range_x_slider  = widgets.FloatRangeSlider(value=[0.8, 0.9], min=0, max=1.2, step=0.01, description='Normalized radius range', layout=Layout(width='50%'), style = {'description_width': 'initial'}, continuous_update=False)\n",
    "param_widget = widgets.Text(value='density', placeholder='Type something', description= 'Select parameter:', continuous_update=False)\n",
    "\n",
    "interact(update_plot, \n",
    "         it                   = itime_slider,\n",
    "         ix                   = ix_slider,\n",
    "         iy                   = iy_slider,\n",
    "         colormap_range       = widgets.FloatSlider(min=0.01, max=2, step=0.01,value=0.8, continuous_update=False),\n",
    "         symetrical_cmap      = widgets.Checkbox(value=False,description='symetrical_cmap'),\n",
    "         bool_appearing_lines = widgets.Checkbox(value=True,description='Appearing lines'),\n",
    "         param                = widgets.Text(value='density', placeholder='Type something', description= 'Select parameter:', continuous_update=False),\n",
    "         dpi_adjust           = widgets.IntSlider(min=30, max=200, step=1 ,value=100, continuous_update=False)\n",
    "        );"
   ]
  },
  {
   "cell_type": "markdown",
   "metadata": {},
   "source": [
    "## **Export**"
   ]
  },
  {
   "cell_type": "markdown",
   "metadata": {},
   "source": [
    "### **Export in HDF5**"
   ]
  },
  {
   "cell_type": "code",
   "execution_count": null,
   "metadata": {},
   "outputs": [],
   "source": [
    "## Choose a field and either an index or a slice in time, y and x. If undefined, the whole dimension is kept.\n",
    "field = 'Isq'\n",
    "\n",
    "# it = slice(itmax//2,itmax)\n",
    "it = slice(0,itmax,32)\n",
    "\n",
    "# Export the data to a file. \n",
    "# If no path is given, the file is saved in the simulation directory.\n",
    "# If no filename is given, the file is saved as {field}_{simulation_folder_name}.h5\n",
    "\n",
    "sim.export_to_h5(field, path=None, filename=None, it=it, ix=None, iy=None) # Save the field at the chosen time index/slice, for the whole spatial domain"
   ]
  },
  {
   "cell_type": "markdown",
   "metadata": {},
   "source": [
    "### **Save frames and/or movie**"
   ]
  },
  {
   "cell_type": "code",
   "execution_count": null,
   "id": "6dfbb0a0",
   "metadata": {},
   "outputs": [],
   "source": [
    "## Save movie and, if desired, the frames of the time evolution of a field\n",
    "## For AI purposes, the boolean 'for_AI' generate frames without axes and colorbar\n",
    "## The individual frames can also be saved with the boolean 'save_frames'\n",
    "## If no path is given, the movie is saved in the simulation directory.\n",
    "## A time range can be specified with the 'it_slice' argument. If not, the whole time range is used.\n",
    "## If the parallel boolean is set to True, the movie is generated using \"num_cores\" cores (all available if not specified).\n",
    "\n",
    "sim.make_movie(field='density', path=None, filename='mysim', it_slice=None, parallel=True, num_cores=None, for_IA=False, scheme=None, cmap='plasma', vmin=None, vmax=None, fps=30, save_frames=False)"
   ]
  }
 ],
 "metadata": {
  "kernelspec": {
   "display_name": "tokam",
   "language": "python",
   "name": "python3"
  },
  "language_info": {
   "codemirror_mode": {
    "name": "ipython",
    "version": 3
   },
   "file_extension": ".py",
   "mimetype": "text/x-python",
   "name": "python",
   "nbconvert_exporter": "python",
   "pygments_lexer": "ipython3",
   "version": "3.11.4"
  }
 },
 "nbformat": 4,
 "nbformat_minor": 5
}
